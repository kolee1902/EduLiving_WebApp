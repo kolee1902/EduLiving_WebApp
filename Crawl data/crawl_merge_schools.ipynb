{
 "cells": [
  {
   "cell_type": "code",
   "execution_count": 14,
   "metadata": {},
   "outputs": [
    {
     "name": "stdout",
     "output_type": "stream",
     "text": [
      "['STT', 'Tên trường', 'Thành lập', 'Địa chỉ', 'Hiệu trưởng', 'Ghi chú', 'Trường chuyên thuộc các Trường Đại học', 'Trường chuyên thuộc Sở Giáo dục và Đào tạo', 'Trường có lớp chuyên', 'Trường chuyên Thể dục Thể thao']\n",
      "[['Trường chuyên thuộc các Trường Đại học']]\n",
      "[['Trường chuyên thuộc các Trường Đại học'], ['1', 'Trường Phổ thông Năng Khiếu, Đại học Quốc gia TP.HCM', '1996', '153 Nguyễn Chí Thanh, Phường 9, Quận 5', 'GS.TS Nguyễn Thị Thanh Mai', 'http://ptnk.edu.vn/']]\n",
      "[['Trường chuyên thuộc các Trường Đại học'], ['1', 'Trường Phổ thông Năng Khiếu, Đại học Quốc gia TP.HCM', '1996', '153 Nguyễn Chí Thanh, Phường 9, Quận 5', 'GS.TS Nguyễn Thị Thanh Mai', 'http://ptnk.edu.vn/'], ['2014', 'Khu đô thị Đại học Quốc gia, P. Linh Trung, TP. Thủ Đức']]\n",
      "[['Trường chuyên thuộc các Trường Đại học'], ['1', 'Trường Phổ thông Năng Khiếu, Đại học Quốc gia TP.HCM', '1996', '153 Nguyễn Chí Thanh, Phường 9, Quận 5', 'GS.TS Nguyễn Thị Thanh Mai', 'http://ptnk.edu.vn/'], ['2014', 'Khu đô thị Đại học Quốc gia, P. Linh Trung, TP. Thủ Đức'], ['Trường chuyên thuộc Sở Giáo dục và Đào tạo']]\n",
      "[['Trường chuyên thuộc các Trường Đại học'], ['1', 'Trường Phổ thông Năng Khiếu, Đại học Quốc gia TP.HCM', '1996', '153 Nguyễn Chí Thanh, Phường 9, Quận 5', 'GS.TS Nguyễn Thị Thanh Mai', 'http://ptnk.edu.vn/'], ['2014', 'Khu đô thị Đại học Quốc gia, P. Linh Trung, TP. Thủ Đức'], ['Trường chuyên thuộc Sở Giáo dục và Đào tạo'], ['2', 'Trường THPT chuyên Trần Đại Nghĩa', '1874', '20 \\u200eLý Tự Trọng, P. Bến Nghé, Quận 1', 'TS. Nguyễn Minh', 'http://trandainghia.edu.vn/']]\n",
      "[['Trường chuyên thuộc các Trường Đại học'], ['1', 'Trường Phổ thông Năng Khiếu, Đại học Quốc gia TP.HCM', '1996', '153 Nguyễn Chí Thanh, Phường 9, Quận 5', 'GS.TS Nguyễn Thị Thanh Mai', 'http://ptnk.edu.vn/'], ['2014', 'Khu đô thị Đại học Quốc gia, P. Linh Trung, TP. Thủ Đức'], ['Trường chuyên thuộc Sở Giáo dục và Đào tạo'], ['2', 'Trường THPT chuyên Trần Đại Nghĩa', '1874', '20 \\u200eLý Tự Trọng, P. Bến Nghé, Quận 1', 'TS. Nguyễn Minh', 'http://trandainghia.edu.vn/'], ['2/6A Lương Định Của, P. An Khánh, TP. Thủ Đức']]\n",
      "[['Trường chuyên thuộc các Trường Đại học'], ['1', 'Trường Phổ thông Năng Khiếu, Đại học Quốc gia TP.HCM', '1996', '153 Nguyễn Chí Thanh, Phường 9, Quận 5', 'GS.TS Nguyễn Thị Thanh Mai', 'http://ptnk.edu.vn/'], ['2014', 'Khu đô thị Đại học Quốc gia, P. Linh Trung, TP. Thủ Đức'], ['Trường chuyên thuộc Sở Giáo dục và Đào tạo'], ['2', 'Trường THPT chuyên Trần Đại Nghĩa', '1874', '20 \\u200eLý Tự Trọng, P. Bến Nghé, Quận 1', 'TS. Nguyễn Minh', 'http://trandainghia.edu.vn/'], ['2/6A Lương Định Của, P. An Khánh, TP. Thủ Đức'], ['3', 'Trường THPT chuyên Lê Hồng Phong', '1927', '235 Nguyễn Văn Cừ, Phường 4, Quận 5', 'ThS. Phạm Thị Bé Hiền', 'http://www.thpt-lehongphong-tphcm.edu.vn/']]\n",
      "[['Trường chuyên thuộc các Trường Đại học'], ['1', 'Trường Phổ thông Năng Khiếu, Đại học Quốc gia TP.HCM', '1996', '153 Nguyễn Chí Thanh, Phường 9, Quận 5', 'GS.TS Nguyễn Thị Thanh Mai', 'http://ptnk.edu.vn/'], ['2014', 'Khu đô thị Đại học Quốc gia, P. Linh Trung, TP. Thủ Đức'], ['Trường chuyên thuộc Sở Giáo dục và Đào tạo'], ['2', 'Trường THPT chuyên Trần Đại Nghĩa', '1874', '20 \\u200eLý Tự Trọng, P. Bến Nghé, Quận 1', 'TS. Nguyễn Minh', 'http://trandainghia.edu.vn/'], ['2/6A Lương Định Của, P. An Khánh, TP. Thủ Đức'], ['3', 'Trường THPT chuyên Lê Hồng Phong', '1927', '235 Nguyễn Văn Cừ, Phường 4, Quận 5', 'ThS. Phạm Thị Bé Hiền', 'http://www.thpt-lehongphong-tphcm.edu.vn/'], ['Trường có lớp chuyên']]\n",
      "[['Trường chuyên thuộc các Trường Đại học'], ['1', 'Trường Phổ thông Năng Khiếu, Đại học Quốc gia TP.HCM', '1996', '153 Nguyễn Chí Thanh, Phường 9, Quận 5', 'GS.TS Nguyễn Thị Thanh Mai', 'http://ptnk.edu.vn/'], ['2014', 'Khu đô thị Đại học Quốc gia, P. Linh Trung, TP. Thủ Đức'], ['Trường chuyên thuộc Sở Giáo dục và Đào tạo'], ['2', 'Trường THPT chuyên Trần Đại Nghĩa', '1874', '20 \\u200eLý Tự Trọng, P. Bến Nghé, Quận 1', 'TS. Nguyễn Minh', 'http://trandainghia.edu.vn/'], ['2/6A Lương Định Của, P. An Khánh, TP. Thủ Đức'], ['3', 'Trường THPT chuyên Lê Hồng Phong', '1927', '235 Nguyễn Văn Cừ, Phường 4, Quận 5', 'ThS. Phạm Thị Bé Hiền', 'http://www.thpt-lehongphong-tphcm.edu.vn/'], ['Trường có lớp chuyên'], ['4', 'Trường THPT Gia Định', '1956', '44 Võ Oanh, Phường 25, quận Bình Thạnh', 'Nguyễn Ngọc Khánh Vân', 'https://thptgiadinh.hcm.edu.vn/ Lưu trữ 2016-12-07 tại Wayback Machine']]\n",
      "[['Trường chuyên thuộc các Trường Đại học'], ['1', 'Trường Phổ thông Năng Khiếu, Đại học Quốc gia TP.HCM', '1996', '153 Nguyễn Chí Thanh, Phường 9, Quận 5', 'GS.TS Nguyễn Thị Thanh Mai', 'http://ptnk.edu.vn/'], ['2014', 'Khu đô thị Đại học Quốc gia, P. Linh Trung, TP. Thủ Đức'], ['Trường chuyên thuộc Sở Giáo dục và Đào tạo'], ['2', 'Trường THPT chuyên Trần Đại Nghĩa', '1874', '20 \\u200eLý Tự Trọng, P. Bến Nghé, Quận 1', 'TS. Nguyễn Minh', 'http://trandainghia.edu.vn/'], ['2/6A Lương Định Của, P. An Khánh, TP. Thủ Đức'], ['3', 'Trường THPT chuyên Lê Hồng Phong', '1927', '235 Nguyễn Văn Cừ, Phường 4, Quận 5', 'ThS. Phạm Thị Bé Hiền', 'http://www.thpt-lehongphong-tphcm.edu.vn/'], ['Trường có lớp chuyên'], ['4', 'Trường THPT Gia Định', '1956', '44 Võ Oanh, Phường 25, quận Bình Thạnh', 'Nguyễn Ngọc Khánh Vân', 'https://thptgiadinh.hcm.edu.vn/ Lưu trữ 2016-12-07 tại Wayback Machine'], ['5', 'Trường THPT Mạc Đĩnh Chi', '1957', '4 Tân Hòa Đông, Phường 13, Quận 6', 'Trần Thanh Bình', 'https://thptmacdinhchi.hcm.edu.vn/']]\n",
      "[['Trường chuyên thuộc các Trường Đại học'], ['1', 'Trường Phổ thông Năng Khiếu, Đại học Quốc gia TP.HCM', '1996', '153 Nguyễn Chí Thanh, Phường 9, Quận 5', 'GS.TS Nguyễn Thị Thanh Mai', 'http://ptnk.edu.vn/'], ['2014', 'Khu đô thị Đại học Quốc gia, P. Linh Trung, TP. Thủ Đức'], ['Trường chuyên thuộc Sở Giáo dục và Đào tạo'], ['2', 'Trường THPT chuyên Trần Đại Nghĩa', '1874', '20 \\u200eLý Tự Trọng, P. Bến Nghé, Quận 1', 'TS. Nguyễn Minh', 'http://trandainghia.edu.vn/'], ['2/6A Lương Định Của, P. An Khánh, TP. Thủ Đức'], ['3', 'Trường THPT chuyên Lê Hồng Phong', '1927', '235 Nguyễn Văn Cừ, Phường 4, Quận 5', 'ThS. Phạm Thị Bé Hiền', 'http://www.thpt-lehongphong-tphcm.edu.vn/'], ['Trường có lớp chuyên'], ['4', 'Trường THPT Gia Định', '1956', '44 Võ Oanh, Phường 25, quận Bình Thạnh', 'Nguyễn Ngọc Khánh Vân', 'https://thptgiadinh.hcm.edu.vn/ Lưu trữ 2016-12-07 tại Wayback Machine'], ['5', 'Trường THPT Mạc Đĩnh Chi', '1957', '4 Tân Hòa Đông, Phường 13, Quận 6', 'Trần Thanh Bình', 'https://thptmacdinhchi.hcm.edu.vn/'], ['6', 'Trường THPT Nguyễn Hữu Huân', '1962', '11 Đoàn Kết, P. Bình Thọ, TP. Thủ Đức', 'ThS. Nguyễn Đức Chính', 'https://thptnguyenhuuhuan.hcm.edu.vn/']]\n",
      "[['Trường chuyên thuộc các Trường Đại học'], ['1', 'Trường Phổ thông Năng Khiếu, Đại học Quốc gia TP.HCM', '1996', '153 Nguyễn Chí Thanh, Phường 9, Quận 5', 'GS.TS Nguyễn Thị Thanh Mai', 'http://ptnk.edu.vn/'], ['2014', 'Khu đô thị Đại học Quốc gia, P. Linh Trung, TP. Thủ Đức'], ['Trường chuyên thuộc Sở Giáo dục và Đào tạo'], ['2', 'Trường THPT chuyên Trần Đại Nghĩa', '1874', '20 \\u200eLý Tự Trọng, P. Bến Nghé, Quận 1', 'TS. Nguyễn Minh', 'http://trandainghia.edu.vn/'], ['2/6A Lương Định Của, P. An Khánh, TP. Thủ Đức'], ['3', 'Trường THPT chuyên Lê Hồng Phong', '1927', '235 Nguyễn Văn Cừ, Phường 4, Quận 5', 'ThS. Phạm Thị Bé Hiền', 'http://www.thpt-lehongphong-tphcm.edu.vn/'], ['Trường có lớp chuyên'], ['4', 'Trường THPT Gia Định', '1956', '44 Võ Oanh, Phường 25, quận Bình Thạnh', 'Nguyễn Ngọc Khánh Vân', 'https://thptgiadinh.hcm.edu.vn/ Lưu trữ 2016-12-07 tại Wayback Machine'], ['5', 'Trường THPT Mạc Đĩnh Chi', '1957', '4 Tân Hòa Đông, Phường 13, Quận 6', 'Trần Thanh Bình', 'https://thptmacdinhchi.hcm.edu.vn/'], ['6', 'Trường THPT Nguyễn Hữu Huân', '1962', '11 Đoàn Kết, P. Bình Thọ, TP. Thủ Đức', 'ThS. Nguyễn Đức Chính', 'https://thptnguyenhuuhuan.hcm.edu.vn/'], ['7', 'Trường THPT Nguyễn Thượng Hiền', '1970', '544 Cách Mạng Tháng Tám, Phường 4, quận Tân Bình', 'ThS. Lâm Triều Nghi', 'https://thptnguyenthuonghien.hcm.edu.vn/ Lưu trữ 2016-11-27 tại Wayback Machine']]\n",
      "[['Trường chuyên thuộc các Trường Đại học'], ['1', 'Trường Phổ thông Năng Khiếu, Đại học Quốc gia TP.HCM', '1996', '153 Nguyễn Chí Thanh, Phường 9, Quận 5', 'GS.TS Nguyễn Thị Thanh Mai', 'http://ptnk.edu.vn/'], ['2014', 'Khu đô thị Đại học Quốc gia, P. Linh Trung, TP. Thủ Đức'], ['Trường chuyên thuộc Sở Giáo dục và Đào tạo'], ['2', 'Trường THPT chuyên Trần Đại Nghĩa', '1874', '20 \\u200eLý Tự Trọng, P. Bến Nghé, Quận 1', 'TS. Nguyễn Minh', 'http://trandainghia.edu.vn/'], ['2/6A Lương Định Của, P. An Khánh, TP. Thủ Đức'], ['3', 'Trường THPT chuyên Lê Hồng Phong', '1927', '235 Nguyễn Văn Cừ, Phường 4, Quận 5', 'ThS. Phạm Thị Bé Hiền', 'http://www.thpt-lehongphong-tphcm.edu.vn/'], ['Trường có lớp chuyên'], ['4', 'Trường THPT Gia Định', '1956', '44 Võ Oanh, Phường 25, quận Bình Thạnh', 'Nguyễn Ngọc Khánh Vân', 'https://thptgiadinh.hcm.edu.vn/ Lưu trữ 2016-12-07 tại Wayback Machine'], ['5', 'Trường THPT Mạc Đĩnh Chi', '1957', '4 Tân Hòa Đông, Phường 13, Quận 6', 'Trần Thanh Bình', 'https://thptmacdinhchi.hcm.edu.vn/'], ['6', 'Trường THPT Nguyễn Hữu Huân', '1962', '11 Đoàn Kết, P. Bình Thọ, TP. Thủ Đức', 'ThS. Nguyễn Đức Chính', 'https://thptnguyenhuuhuan.hcm.edu.vn/'], ['7', 'Trường THPT Nguyễn Thượng Hiền', '1970', '544 Cách Mạng Tháng Tám, Phường 4, quận Tân Bình', 'ThS. Lâm Triều Nghi', 'https://thptnguyenthuonghien.hcm.edu.vn/ Lưu trữ 2016-11-27 tại Wayback Machine'], ['Trường chuyên Thể dục Thể thao']]\n",
      "[['Trường chuyên thuộc các Trường Đại học'], ['1', 'Trường Phổ thông Năng Khiếu, Đại học Quốc gia TP.HCM', '1996', '153 Nguyễn Chí Thanh, Phường 9, Quận 5', 'GS.TS Nguyễn Thị Thanh Mai', 'http://ptnk.edu.vn/'], ['2014', 'Khu đô thị Đại học Quốc gia, P. Linh Trung, TP. Thủ Đức'], ['Trường chuyên thuộc Sở Giáo dục và Đào tạo'], ['2', 'Trường THPT chuyên Trần Đại Nghĩa', '1874', '20 \\u200eLý Tự Trọng, P. Bến Nghé, Quận 1', 'TS. Nguyễn Minh', 'http://trandainghia.edu.vn/'], ['2/6A Lương Định Của, P. An Khánh, TP. Thủ Đức'], ['3', 'Trường THPT chuyên Lê Hồng Phong', '1927', '235 Nguyễn Văn Cừ, Phường 4, Quận 5', 'ThS. Phạm Thị Bé Hiền', 'http://www.thpt-lehongphong-tphcm.edu.vn/'], ['Trường có lớp chuyên'], ['4', 'Trường THPT Gia Định', '1956', '44 Võ Oanh, Phường 25, quận Bình Thạnh', 'Nguyễn Ngọc Khánh Vân', 'https://thptgiadinh.hcm.edu.vn/ Lưu trữ 2016-12-07 tại Wayback Machine'], ['5', 'Trường THPT Mạc Đĩnh Chi', '1957', '4 Tân Hòa Đông, Phường 13, Quận 6', 'Trần Thanh Bình', 'https://thptmacdinhchi.hcm.edu.vn/'], ['6', 'Trường THPT Nguyễn Hữu Huân', '1962', '11 Đoàn Kết, P. Bình Thọ, TP. Thủ Đức', 'ThS. Nguyễn Đức Chính', 'https://thptnguyenhuuhuan.hcm.edu.vn/'], ['7', 'Trường THPT Nguyễn Thượng Hiền', '1970', '544 Cách Mạng Tháng Tám, Phường 4, quận Tân Bình', 'ThS. Lâm Triều Nghi', 'https://thptnguyenthuonghien.hcm.edu.vn/ Lưu trữ 2016-11-27 tại Wayback Machine'], ['Trường chuyên Thể dục Thể thao'], ['8', 'Trường THPT Năng khiếu Thể dục Thể thao TP.HCM', '2002', '43 Điện Biên Phủ, P. Đa Kao, Quận 1', 'Nguyễn Thị Yến Phương', 'https://thptnangkhieutdtt.hcm.edu.vn/']]\n",
      "[['Trường chuyên thuộc các Trường Đại học'], ['1', 'Trường Phổ thông Năng Khiếu, Đại học Quốc gia TP.HCM', '1996', '153 Nguyễn Chí Thanh, Phường 9, Quận 5', 'GS.TS Nguyễn Thị Thanh Mai', 'http://ptnk.edu.vn/'], ['2014', 'Khu đô thị Đại học Quốc gia, P. Linh Trung, TP. Thủ Đức'], ['Trường chuyên thuộc Sở Giáo dục và Đào tạo'], ['2', 'Trường THPT chuyên Trần Đại Nghĩa', '1874', '20 \\u200eLý Tự Trọng, P. Bến Nghé, Quận 1', 'TS. Nguyễn Minh', 'http://trandainghia.edu.vn/'], ['2/6A Lương Định Của, P. An Khánh, TP. Thủ Đức'], ['3', 'Trường THPT chuyên Lê Hồng Phong', '1927', '235 Nguyễn Văn Cừ, Phường 4, Quận 5', 'ThS. Phạm Thị Bé Hiền', 'http://www.thpt-lehongphong-tphcm.edu.vn/'], ['Trường có lớp chuyên'], ['4', 'Trường THPT Gia Định', '1956', '44 Võ Oanh, Phường 25, quận Bình Thạnh', 'Nguyễn Ngọc Khánh Vân', 'https://thptgiadinh.hcm.edu.vn/ Lưu trữ 2016-12-07 tại Wayback Machine'], ['5', 'Trường THPT Mạc Đĩnh Chi', '1957', '4 Tân Hòa Đông, Phường 13, Quận 6', 'Trần Thanh Bình', 'https://thptmacdinhchi.hcm.edu.vn/'], ['6', 'Trường THPT Nguyễn Hữu Huân', '1962', '11 Đoàn Kết, P. Bình Thọ, TP. Thủ Đức', 'ThS. Nguyễn Đức Chính', 'https://thptnguyenhuuhuan.hcm.edu.vn/'], ['7', 'Trường THPT Nguyễn Thượng Hiền', '1970', '544 Cách Mạng Tháng Tám, Phường 4, quận Tân Bình', 'ThS. Lâm Triều Nghi', 'https://thptnguyenthuonghien.hcm.edu.vn/ Lưu trữ 2016-11-27 tại Wayback Machine'], ['Trường chuyên Thể dục Thể thao'], ['8', 'Trường THPT Năng khiếu Thể dục Thể thao TP.HCM', '2002', '43 Điện Biên Phủ, P. Đa Kao, Quận 1', 'Nguyễn Thị Yến Phương', 'https://thptnangkhieutdtt.hcm.edu.vn/'], ['9', 'Trường THPT Năng khiếu Thể dục Thể thao Nguyễn Thị Định', '2004', '215 Đường Hoàng Ngân, Phường 16, Quận 8', 'Lê Quang Ninh', 'https://thptnangkhieutdttnguyenthidinh.hcm.edu.vn/']]\n",
      "[['Trường chuyên thuộc các Trường Đại học'], ['1', 'Trường Phổ thông Năng Khiếu, Đại học Quốc gia TP.HCM', '1996', '153 Nguyễn Chí Thanh, Phường 9, Quận 5', 'GS.TS Nguyễn Thị Thanh Mai', 'http://ptnk.edu.vn/'], ['2014', 'Khu đô thị Đại học Quốc gia, P. Linh Trung, TP. Thủ Đức'], ['Trường chuyên thuộc Sở Giáo dục và Đào tạo'], ['2', 'Trường THPT chuyên Trần Đại Nghĩa', '1874', '20 \\u200eLý Tự Trọng, P. Bến Nghé, Quận 1', 'TS. Nguyễn Minh', 'http://trandainghia.edu.vn/'], ['2/6A Lương Định Của, P. An Khánh, TP. Thủ Đức'], ['3', 'Trường THPT chuyên Lê Hồng Phong', '1927', '235 Nguyễn Văn Cừ, Phường 4, Quận 5', 'ThS. Phạm Thị Bé Hiền', 'http://www.thpt-lehongphong-tphcm.edu.vn/'], ['Trường có lớp chuyên'], ['4', 'Trường THPT Gia Định', '1956', '44 Võ Oanh, Phường 25, quận Bình Thạnh', 'Nguyễn Ngọc Khánh Vân', 'https://thptgiadinh.hcm.edu.vn/ Lưu trữ 2016-12-07 tại Wayback Machine'], ['5', 'Trường THPT Mạc Đĩnh Chi', '1957', '4 Tân Hòa Đông, Phường 13, Quận 6', 'Trần Thanh Bình', 'https://thptmacdinhchi.hcm.edu.vn/'], ['6', 'Trường THPT Nguyễn Hữu Huân', '1962', '11 Đoàn Kết, P. Bình Thọ, TP. Thủ Đức', 'ThS. Nguyễn Đức Chính', 'https://thptnguyenhuuhuan.hcm.edu.vn/'], ['7', 'Trường THPT Nguyễn Thượng Hiền', '1970', '544 Cách Mạng Tháng Tám, Phường 4, quận Tân Bình', 'ThS. Lâm Triều Nghi', 'https://thptnguyenthuonghien.hcm.edu.vn/ Lưu trữ 2016-11-27 tại Wayback Machine'], ['Trường chuyên Thể dục Thể thao'], ['8', 'Trường THPT Năng khiếu Thể dục Thể thao TP.HCM', '2002', '43 Điện Biên Phủ, P. Đa Kao, Quận 1', 'Nguyễn Thị Yến Phương', 'https://thptnangkhieutdtt.hcm.edu.vn/'], ['9', 'Trường THPT Năng khiếu Thể dục Thể thao Nguyễn Thị Định', '2004', '215 Đường Hoàng Ngân, Phường 16, Quận 8', 'Lê Quang Ninh', 'https://thptnangkhieutdttnguyenthidinh.hcm.edu.vn/'], ['10', 'Trường Phổ thông Năng khiếu Thể thao Olympic – Đại học Thể dục Thể thao TPHCM', '2014', 'Đại học Thể dục Thể thao TPHCM, P. Linh Trung, TP. Thủ Đức', 'TS. Võ Quốc Thắng', 'https://nkttolympic.hcm.edu.vn/']]\n",
      "[['Trường chuyên thuộc các Trường Đại học'], ['1', 'Trường Phổ thông Năng Khiếu, Đại học Quốc gia TP.HCM', '1996', '153 Nguyễn Chí Thanh, Phường 9, Quận 5', 'GS.TS Nguyễn Thị Thanh Mai', 'http://ptnk.edu.vn/'], ['2014', 'Khu đô thị Đại học Quốc gia, P. Linh Trung, TP. Thủ Đức'], ['Trường chuyên thuộc Sở Giáo dục và Đào tạo'], ['2', 'Trường THPT chuyên Trần Đại Nghĩa', '1874', '20 \\u200eLý Tự Trọng, P. Bến Nghé, Quận 1', 'TS. Nguyễn Minh', 'http://trandainghia.edu.vn/'], ['2/6A Lương Định Của, P. An Khánh, TP. Thủ Đức'], ['3', 'Trường THPT chuyên Lê Hồng Phong', '1927', '235 Nguyễn Văn Cừ, Phường 4, Quận 5', 'ThS. Phạm Thị Bé Hiền', 'http://www.thpt-lehongphong-tphcm.edu.vn/'], ['Trường có lớp chuyên'], ['4', 'Trường THPT Gia Định', '1956', '44 Võ Oanh, Phường 25, quận Bình Thạnh', 'Nguyễn Ngọc Khánh Vân', 'https://thptgiadinh.hcm.edu.vn/ Lưu trữ 2016-12-07 tại Wayback Machine'], ['5', 'Trường THPT Mạc Đĩnh Chi', '1957', '4 Tân Hòa Đông, Phường 13, Quận 6', 'Trần Thanh Bình', 'https://thptmacdinhchi.hcm.edu.vn/'], ['6', 'Trường THPT Nguyễn Hữu Huân', '1962', '11 Đoàn Kết, P. Bình Thọ, TP. Thủ Đức', 'ThS. Nguyễn Đức Chính', 'https://thptnguyenhuuhuan.hcm.edu.vn/'], ['7', 'Trường THPT Nguyễn Thượng Hiền', '1970', '544 Cách Mạng Tháng Tám, Phường 4, quận Tân Bình', 'ThS. Lâm Triều Nghi', 'https://thptnguyenthuonghien.hcm.edu.vn/ Lưu trữ 2016-11-27 tại Wayback Machine'], ['Trường chuyên Thể dục Thể thao'], ['8', 'Trường THPT Năng khiếu Thể dục Thể thao TP.HCM', '2002', '43 Điện Biên Phủ, P. Đa Kao, Quận 1', 'Nguyễn Thị Yến Phương', 'https://thptnangkhieutdtt.hcm.edu.vn/'], ['9', 'Trường THPT Năng khiếu Thể dục Thể thao Nguyễn Thị Định', '2004', '215 Đường Hoàng Ngân, Phường 16, Quận 8', 'Lê Quang Ninh', 'https://thptnangkhieutdttnguyenthidinh.hcm.edu.vn/'], ['10', 'Trường Phổ thông Năng khiếu Thể thao Olympic – Đại học Thể dục Thể thao TPHCM', '2014', 'Đại học Thể dục Thể thao TPHCM, P. Linh Trung, TP. Thủ Đức', 'TS. Võ Quốc Thắng', 'https://nkttolympic.hcm.edu.vn/'], ['11', 'Trường THPT Năng khiếu Thể dục Thể thao Bình Chánh', '2018', 'A10/3D Mai Bá Hương, xã Lê Minh Xuân, huyện Bình Chánh', 'ThS. Bùi Thiện Đạo', 'https://thptnangkhieutdttbinhchanh.hcm.edu.vn/']]\n"
     ]
    }
   ],
   "source": [
    "import requests\n",
    "from bs4 import BeautifulSoup\n",
    "import pandas as pd\n",
    "\n",
    "# URL trang Wikipedia\n",
    "url = \"https://vi.wikipedia.org/wiki/Danh_s%C3%A1ch_tr%C6%B0%E1%BB%9Dng_trung_h%E1%BB%8Dc_ph%E1%BB%95_th%C3%B4ng_t%E1%BA%A1i_Th%C3%A0nh_ph%E1%BB%91_H%E1%BB%93_Ch%C3%AD_Minh\"\n",
    "\n",
    "# Gửi request để lấy nội dung trang\n",
    "response = requests.get(url)\n",
    "soup = BeautifulSoup(response.text, \"html.parser\")\n",
    "\n",
    "# Tìm bảng dữ liệu\n",
    "soup.find(\"table\", {\"class\": \"wikitable\"})  # In 2000 ký tự đầu tiên của HTML\n",
    "\n",
    "if table is None:\n",
    "    print(\"Không tìm thấy bảng dữ liệu.\")\n",
    "else:\n",
    "    headers = [th.text.strip() for th in table.find_all(\"th\")]\n",
    "    headers =  [header for header in headers if not header.isnumeric()]\n",
    "    print(headers)\n",
    "\n",
    "\n",
    "# Lấy dữ liệu từ bảng\n",
    "rows = []\n",
    "for tr in table.find_all(\"tr\")[1:]:  # Bỏ qua dòng tiêu đề\n",
    "    cells = tr.find_all([\"td\", \"th\"])\n",
    "    row = [cell.text.strip() for cell in cells]\n",
    "    rows.append(row)\n",
    "    print(rows)\n",
    "\n",
    "# # Tạo DataFrame\n",
    "# df = pd.DataFrame(rows, columns=headers)\n",
    "\n",
    "# # Lưu vào CSV\n",
    "# df.to_csv(\"schools_hcm.csv\", index=False, encoding=\"utf-8-sig\")\n",
    "\n",
    "# print(\"Dữ liệu đã được lưu vào schools_hcm.csv\")\n"
   ]
  },
  {
   "cell_type": "markdown",
   "metadata": {},
   "source": [
    "## Merge Data"
   ]
  },
  {
   "cell_type": "code",
   "execution_count": 8,
   "metadata": {},
   "outputs": [
    {
     "name": "stdout",
     "output_type": "stream",
     "text": [
      "File đã gộp được lưu tại: D:\\Nam 4\\PTDLUD\\GetDataWiki\\data\\merged_truong.csv\n"
     ]
    }
   ],
   "source": [
    "import pandas as pd\n",
    "import glob\n",
    "import os\n",
    "\n",
    "# Đường dẫn tới thư mục chứa các file CSV\n",
    "folder_path = r\"D:\\Nam 4\\PTDLUD\\GetDataWiki\\data\"  # Dùng raw string để tránh lỗi escape\n",
    "\n",
    "# Lấy danh sách tất cả các file CSV trong thư mục\n",
    "csv_files = glob.glob(os.path.join(folder_path, \"*.csv\"))\n",
    "\n",
    "# Khởi tạo danh sách chứa các DataFrame\n",
    "dfs = []\n",
    "\n",
    "# Đọc từng file và thêm vào danh sách\n",
    "for file in csv_files:\n",
    "    df = pd.read_csv(file, delimiter=\"\\t\")  # Điều chỉnh delimiter nếu cần\n",
    "    df.drop(columns=[\"STT\"], inplace=True, errors=\"ignore\")  # Xóa cột STT nếu tồn tại\n",
    "    dfs.append(df)\n",
    "\n",
    "# Gộp tất cả DataFrame lại\n",
    "merged_df = pd.concat(dfs, ignore_index=True)\n",
    "\n",
    "# Lưu file đã gộp\n",
    "merged_file_path = os.path.join(folder_path, \"merged_truong.csv\")\n",
    "merged_df.to_csv(merged_file_path, index=False, sep=\"\\t\", encoding=\"utf-8-sig\")\n",
    "\n",
    "print(f\"File đã gộp được lưu tại: {merged_file_path}\")\n"
   ]
  }
 ],
 "metadata": {
  "kernelspec": {
   "display_name": "base",
   "language": "python",
   "name": "python3"
  },
  "language_info": {
   "codemirror_mode": {
    "name": "ipython",
    "version": 3
   },
   "file_extension": ".py",
   "mimetype": "text/x-python",
   "name": "python",
   "nbconvert_exporter": "python",
   "pygments_lexer": "ipython3",
   "version": "3.10.9"
  }
 },
 "nbformat": 4,
 "nbformat_minor": 2
}
